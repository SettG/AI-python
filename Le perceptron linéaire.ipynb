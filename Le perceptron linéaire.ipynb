{
 "cells": [
  {
   "cell_type": "markdown",
   "source": [
    " # Perceptron linéaire"
   ],
   "metadata": {
    "collapsed": false
   },
   "id": "8ed629eff140847d"
  },
  {
   "cell_type": "markdown",
   "source": [
    "#### On veut deviner une application linéaire\n",
    "f(x, u, z, t) = w1x + w2u + w3z + w4t + b\n",
    "où w1, w2, w3, w4 et b sont fixés à l'avance\n"
   ],
   "metadata": {
    "collapsed": false
   },
   "id": "b76b5c023966bd04"
  },
  {
   "cell_type": "markdown",
   "source": [
    "    Par exemple :\n",
    "w1 = 0.7                         \n",
    "w2 = 0.36\n",
    "w3 = -0.22  \n",
    "w4 = 0.17\n",
    "b = -0,45\n",
    "\n",
    "à l'aide d'un perceptron linéaire et d'une fonction d'activation a seuil :\n",
    "\n",
    "Si f(x) >= 0   --->   y = 1\n",
    "Si f(x) <= 0   --->   y = 0"
   ],
   "metadata": {
    "collapsed": false
   },
   "id": "f02f9d7128e99444"
  },
  {
   "cell_type": "code",
   "outputs": [],
   "source": [
    "def f(x, u, z, t):\n",
    "    res = 0.7 * x + 0.36 * u - 0.22 * z + 0.17 * t - 0.45\n",
    "    # resultat de y en fonction de f\n",
    "    if res >= 0:\n",
    "        return 1\n",
    "    else:\n",
    "        return 0"
   ],
   "metadata": {
    "collapsed": false,
    "ExecuteTime": {
     "end_time": "2024-03-12T09:15:25.620308Z",
     "start_time": "2024-03-12T09:15:25.608546Z"
    }
   },
   "id": "6e38b9a8064881e3",
   "execution_count": 1
  },
  {
   "cell_type": "markdown",
   "source": [
    "### Génération d'un jeu de données d'apprentissage\n",
    "n = 200\n",
    "générer aléatoirement n données étiquetées\n",
    "X = [([x1, x2, x3, x4],y=f(x));...] xi e [0,1]\n",
    "afficher les étiquettes y1,...,yn"
   ],
   "metadata": {
    "collapsed": false
   },
   "id": "268266d32466042f"
  },
  {
   "cell_type": "code",
   "outputs": [],
   "source": [
    "import random\n",
    "\n",
    "\n",
    "def donnees(n):\n",
    "    # Pour ne pas la redéfinir a chaque passage de boucle\n",
    "    X = []\n",
    "    for _ in range(n):\n",
    "        x1, x2, x3, x4 = random.random(), random.random(), random.random(), random.random()\n",
    "        X.append(([x1, x2, x3, x4], f(x1, x2, x3, x4)))\n",
    "    return X"
   ],
   "metadata": {
    "collapsed": false,
    "ExecuteTime": {
     "end_time": "2024-03-12T09:15:25.628024Z",
     "start_time": "2024-03-12T09:15:25.623188Z"
    }
   },
   "id": "ee0c03d3bba3d92d",
   "execution_count": 2
  },
  {
   "cell_type": "markdown",
   "source": [
    "### Définitiondu modèle et programmation avant\n",
    "\n",
    "On prend des lots de taille B = 1\n",
    "ie on traite les données par une "
   ],
   "metadata": {
    "collapsed": false
   },
   "id": "63a3b3fcd2fb1d7a"
  },
  {
   "cell_type": "code",
   "outputs": [],
   "source": [
    "def perceptron(W, b, X):\n",
    "    return int((sum([W[i] * X[i] for i in range(len(W))]) + b) >= 0)\n"
   ],
   "metadata": {
    "collapsed": false,
    "ExecuteTime": {
     "end_time": "2024-03-12T09:15:25.631903Z",
     "start_time": "2024-03-12T09:15:25.629258Z"
    }
   },
   "id": "e3edb205e3f3b63e",
   "execution_count": 3
  },
  {
   "cell_type": "markdown",
   "source": [
    "### Test \n",
    "On fixe l'erreur simple eu = | y - ypredit|\n",
    "Quel est le taux d'erreur pour W = (0.5, -0.5, 0.5, -0.5) et b = 0 ?"
   ],
   "metadata": {
    "collapsed": false
   },
   "id": "aeefd37ab50fdef4"
  },
  {
   "cell_type": "markdown",
   "source": [],
   "metadata": {
    "collapsed": false
   },
   "id": "d3f2e34b84fcdc02"
  },
  {
   "cell_type": "code",
   "outputs": [
    {
     "data": {
      "text/plain": "0.535"
     },
     "execution_count": 4,
     "metadata": {},
     "output_type": "execute_result"
    }
   ],
   "source": [
    "def score(W, b, X):\n",
    "    sc = 0\n",
    "    for i in range(len(X)):    \n",
    "        sc += abs(perceptron(W,b,X[i][0])- X[i][1])\n",
    "    return sc/ len(X)\n",
    "\n",
    "#Défini pour l'exemple\n",
    "W = (0.5, -0.5, 0.5, -0.5)\n",
    "b = 0\n",
    "#Aléatoire a chaque fois du au x1,...,x4 aléatoire \n",
    "X = donnees(200)\n",
    "\n",
    "perceptron(W, b, X[0][0])\n",
    "score(W, b, X)"
   ],
   "metadata": {
    "collapsed": false,
    "ExecuteTime": {
     "end_time": "2024-03-12T09:15:25.636822Z",
     "start_time": "2024-03-12T09:15:25.632617Z"
    }
   },
   "id": "2a2cf459a53fda49",
   "execution_count": 4
  },
  {
   "cell_type": "markdown",
   "source": [
    "### Apprentissage et descente de gradient"
   ],
   "metadata": {
    "collapsed": false
   },
   "id": "e3eba88fdac92b7d"
  },
  {
   "cell_type": "code",
   "outputs": [
    {
     "data": {
      "text/plain": "<Figure size 432x288 with 1 Axes>",
      "image/png": "[encoded data removed]"
     },
     "metadata": {
      "needs_background": "light"
     },
     "output_type": "display_data"
    }
   ],
   "source": [
    "def apprentissage(W, b, X, etha):\n",
    "    for x,y in X:\n",
    "        u = perceptron(W, b, x)\n",
    "        if y > u:\n",
    "            W = [W[i] + etha*x[i] for i in range(len(W))]\n",
    "            b += etha\n",
    "        elif u > y:\n",
    "            W = [W[i] - etha*x[i] for i in range(len(W))]\n",
    "            b -= etha\n",
    "    return W,b\n",
    "\n",
    "etha = 0.001\n",
    "scores = []\n",
    "for i in range(200):\n",
    "    W,b = apprentissage(W, b, X, etha)\n",
    "    scores.append(score(W, b, X))\n",
    "import matplotlib.pyplot as plt\n",
    "plt.plot(scores)\n",
    "plt.show()"
   ],
   "metadata": {
    "collapsed": false,
    "ExecuteTime": {
     "end_time": "2024-03-12T09:15:26.121594Z",
     "start_time": "2024-03-12T09:15:25.637865Z"
    }
   },
   "id": "f50116b94e6dd6ab",
   "execution_count": 5
  }
 ],
 "metadata": {
  "kernelspec": {
   "display_name": "Python 3",
   "language": "python",
   "name": "python3"
  },
  "language_info": {
   "codemirror_mode": {
    "name": "ipython",
    "version": 2
   },
   "file_extension": ".py",
   "mimetype": "text/x-python",
   "name": "python",
   "nbconvert_exporter": "python",
   "pygments_lexer": "ipython2",
   "version": "2.7.6"
  }
 },
 "nbformat": 4,
 "nbformat_minor": 5
}
